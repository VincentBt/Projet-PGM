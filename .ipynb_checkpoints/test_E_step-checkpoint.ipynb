{
 "cells": [
  {
   "cell_type": "code",
   "execution_count": 19,
   "metadata": {
    "collapsed": false
   },
   "outputs": [],
   "source": [
    "from numpy.random import normal\n",
    "import numpy as np\n",
    "from numpy.linalg import inv"
   ]
  },
  {
   "cell_type": "code",
   "execution_count": 79,
   "metadata": {
    "collapsed": false
   },
   "outputs": [
    {
     "name": "stdout",
     "output_type": "stream",
     "text": [
      "[[   -1.72624066]\n",
      " [    3.54416832]\n",
      " [    7.22946626]\n",
      " [   18.42421055]\n",
      " [   41.37465179]\n",
      " [   82.30588761]\n",
      " [  166.5221249 ]\n",
      " [  326.45402148]\n",
      " [  649.11406491]\n",
      " [ 1295.62443791]]\n"
     ]
    }
   ],
   "source": [
    "#Create the model\n",
    "T = 10\n",
    "\n",
    "#Model 1: linear model\n",
    "#x_k+1 = x_k + 10 + gaussian noise (mean 0,variance 1)\n",
    "#y_k = x_k + gaussian noise  (mean 0,variance 0.1)\n",
    "A = np.identity(1) * 2\n",
    "B = np.zeros([1,1])\n",
    "C = np.identity(1)\n",
    "D = np.zeros([1,1])\n",
    "Q = np.identity(1) * 5\n",
    "R = np.identity(1) * 5\n",
    "mean = np.zeros([1,1])\n",
    "\n",
    "x = np.zeros([T,1])\n",
    "y = np.zeros([T,1])\n",
    "u = np.zeros([T,1])\n",
    "\n",
    "#Initialization\n",
    "# for k in range(T-1):\n",
    "#     u[k] = 0\n",
    "x[0] = normal(0,1)\n",
    "\n",
    "#Propagation\n",
    "for k in range(T-1):\n",
    "    x[k+1] = np.dot(A,x[k]) + np.dot(B,u[k]) + normal(mean,Q)\n",
    "for k in range(T):\n",
    "    y[k] = np.dot(C,x[k]) + np.dot(D,u[k]) + normal(mean,R)\n",
    "\n",
    "print(x)\n",
    "# print(y)"
   ]
  },
  {
   "cell_type": "code",
   "execution_count": 80,
   "metadata": {
    "collapsed": false
   },
   "outputs": [
    {
     "name": "stdout",
     "output_type": "stream",
     "text": [
      "[[  3.80653911e-01]\n",
      " [  4.27406880e+00]\n",
      " [  1.27336504e+01]\n",
      " [  2.06832095e+01]\n",
      " [  4.38426335e+01]\n",
      " [  7.87789261e+01]\n",
      " [  1.68659146e+02]\n",
      " [  3.26860415e+02]\n",
      " [  6.50984287e+02]\n",
      " [  1.29788642e+03]]\n"
     ]
    }
   ],
   "source": [
    "#Kalman filter\n",
    "#from page 25 of ftp://icf.org.ru/pub/docs/linux-support/computer%20science/Artificial%20Intelligence/Neural%20networks/Kalman%20Filtering%20and%20Neural%20Networks%20-%20Simon%20Haykin.pdf\n",
    "\n",
    "#Initialization\n",
    "V = np.zeros([T,1])\n",
    "V[0] = np.identity(1)\n",
    "x_f = np.zeros([T,1])\n",
    "x_f[0] = normal(0,V[0])\n",
    "V_plus_list = []\n",
    "\n",
    "#Propagation\n",
    "for k in range(1,T):\n",
    "    x_plus = np.dot(A, x_f[k-1])\n",
    "    V_plus = A.dot(V[k-1]).dot(A.T) + Q \n",
    "    V_plus_list.append(V_plus)\n",
    "    \n",
    "    K = V_plus.dot(C.T).dot(inv(C.dot(V_plus.dot(C.T) + R)))\n",
    "    x_f[k] = x_plus + K.dot(y[k] - C.dot(x_plus))\n",
    "    V[k] = (np.identity(K.shape[0]) - K.dot(C)).dot(V_plus)\n",
    "\n",
    "print(x_f)"
   ]
  },
  {
   "cell_type": "code",
   "execution_count": 87,
   "metadata": {
    "collapsed": false
   },
   "outputs": [
    {
     "name": "stdout",
     "output_type": "stream",
     "text": [
      "[[  3.80653911e-01]\n",
      " [  4.27406880e+00]\n",
      " [  1.27336504e+01]\n",
      " [  2.06832095e+01]\n",
      " [  4.38426335e+01]\n",
      " [  7.87789261e+01]\n",
      " [  1.68659146e+02]\n",
      " [  3.26860415e+02]\n",
      " [  6.50984287e+02]\n",
      " [  1.29788642e+03]]\n"
     ]
    }
   ],
   "source": [
    "#Recursive\n",
    "#F = A, B = H, P = V\n",
    "\n",
    "#Initialization\n",
    "x_b = np.zeros([T,1])\n",
    "x_b[-1] = x_f[-1]\n",
    "V_b = np.zeros([T,1])\n",
    "V_b[-1] = V[-1]\n",
    "\n",
    "#Propagation\n",
    "for k in range(T-1, 0, -1): #from T-1 to 1 by -1 increments\n",
    "    A_b = V_plus_list[k-1].dot(A.T).dot(inv(np.matrix(V[k])))\n",
    "    V_b[k-1] = V_plus_list[k-1] - A_b.dot(V[k] - V_b[k]).dot(A_b.T)\n",
    "    x_b[k-1] = x_f[k-1] + A_b.dot(x_b[k] - x_f[k])\n",
    "    \n",
    "print(x_b)   "
   ]
  },
  {
   "cell_type": "code",
   "execution_count": 88,
   "metadata": {
    "collapsed": false
   },
   "outputs": [
    {
     "name": "stdout",
     "output_type": "stream",
     "text": [
      "[[ 0.]\n",
      " [ 0.]\n",
      " [ 0.]\n",
      " [ 0.]\n",
      " [ 0.]\n",
      " [ 0.]\n",
      " [ 0.]\n",
      " [ 0.]\n",
      " [ 0.]\n",
      " [ 0.]]\n"
     ]
    }
   ],
   "source": [
    "print(x_f - x_b)"
   ]
  },
  {
   "cell_type": "markdown",
   "metadata": {},
   "source": [
    "We get 0, as Kalman filter does all the job on linear systems (we can use the backward recursion, but it helps only for non-linear systems)"
   ]
  },
  {
   "cell_type": "code",
   "execution_count": null,
   "metadata": {
    "collapsed": true
   },
   "outputs": [],
   "source": []
  }
 ],
 "metadata": {
  "anaconda-cloud": {},
  "kernelspec": {
   "display_name": "Python [conda root]",
   "language": "python",
   "name": "conda-root-py"
  },
  "language_info": {
   "codemirror_mode": {
    "name": "ipython",
    "version": 3
   },
   "file_extension": ".py",
   "mimetype": "text/x-python",
   "name": "python",
   "nbconvert_exporter": "python",
   "pygments_lexer": "ipython3",
   "version": "3.5.2"
  }
 },
 "nbformat": 4,
 "nbformat_minor": 0
}
