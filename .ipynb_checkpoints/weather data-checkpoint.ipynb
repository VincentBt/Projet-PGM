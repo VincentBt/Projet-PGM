{
 "cells": [
  {
   "cell_type": "code",
   "execution_count": 1,
   "metadata": {
    "collapsed": true
   },
   "outputs": [],
   "source": [
    "import pandas as pd\n",
    "import numpy as np"
   ]
  },
  {
   "cell_type": "code",
   "execution_count": 2,
   "metadata": {
    "collapsed": false,
    "scrolled": true
   },
   "outputs": [],
   "source": [
    "df = pd.read_csv('data/weather_madrid_LEMD_1997_2015.csv')\n",
    "# df\n",
    "# list(df.columns.values)"
   ]
  },
  {
   "cell_type": "code",
   "execution_count": 3,
   "metadata": {
    "collapsed": false,
    "scrolled": true
   },
   "outputs": [],
   "source": [
    "df = df[['CET', 'Max TemperatureC', 'Mean TemperatureC', 'Min TemperatureC']]\n",
    "# df"
   ]
  },
  {
   "cell_type": "code",
   "execution_count": 4,
   "metadata": {
    "collapsed": false,
    "scrolled": true
   },
   "outputs": [
    {
     "name": "stdout",
     "output_type": "stream",
     "text": [
      "             CET  Max TemperatureC  Mean TemperatureC  Min TemperatureC\n",
      "0       1997-1-1               7.0                4.0               2.0\n",
      "1       1997-1-2               7.0                3.0               0.0\n",
      "2       1997-1-3               5.0                3.0               2.0\n",
      "3       1997-1-4               7.0                3.0              -1.0\n",
      "4       1997-1-5               2.0                0.0              -1.0\n",
      "5       1997-1-6               7.0                3.0               1.0\n",
      "6       1997-1-7               2.0                0.0              -2.0\n",
      "7       1997-1-8               8.0                4.0               1.0\n",
      "8       1997-1-9              12.0               10.0               8.0\n",
      "9      1997-1-10              13.0                8.0               3.0\n",
      "10     1997-1-11              16.0               10.0               5.0\n",
      "11     1997-1-12              17.0               10.0               3.0\n",
      "12     1997-1-13              15.0                9.0               4.0\n",
      "13     1997-1-14              11.0                6.0               0.0\n",
      "14     1997-1-15              11.0                8.0               5.0\n",
      "15     1997-1-16              12.0                9.0               6.0\n",
      "16     1997-1-17              13.0                9.0               5.0\n",
      "17     1997-1-18               6.0                3.0               2.0\n",
      "18     1997-1-19               9.0                7.0               6.0\n",
      "19     1997-1-20               9.0                7.0               5.0\n",
      "20     1997-1-21              10.0                8.0               6.0\n",
      "21     1997-1-22              13.0                8.0               3.0\n",
      "22     1997-1-23              12.0               10.0               9.0\n",
      "23     1997-1-24              13.0               10.0               7.0\n",
      "24     1997-1-25              12.0                9.0               7.0\n",
      "25     1997-1-26              14.0                9.0               5.0\n",
      "26     1997-1-27              15.0                8.0               2.0\n",
      "27     1997-1-28              14.0               10.0               6.0\n",
      "28     1997-1-29              11.0                8.0               5.0\n",
      "29     1997-1-30              15.0               11.0               8.0\n",
      "...          ...               ...                ...               ...\n",
      "6782   2015-12-2              15.0                7.0              -1.0\n",
      "6783   2015-12-3              17.0                8.0              -1.0\n",
      "6784   2015-12-4              17.0                9.0               1.0\n",
      "6785   2015-12-5              19.0               10.0               2.0\n",
      "6786   2015-12-6              17.0                9.0               0.0\n",
      "6787   2015-12-7              11.0                7.0               2.0\n",
      "6788   2015-12-8              13.0                9.0               4.0\n",
      "6789   2015-12-9              16.0                9.0               2.0\n",
      "6790  2015-12-10              14.0                8.0               3.0\n",
      "6791  2015-12-11              14.0                9.0               4.0\n",
      "6792  2015-12-12              12.0                9.0               7.0\n",
      "6793  2015-12-13              13.0                8.0               2.0\n",
      "6794  2015-12-14              15.0               11.0               7.0\n",
      "6795  2015-12-15              16.0               11.0               7.0\n",
      "6796  2015-12-16              15.0                8.0               2.0\n",
      "6797  2015-12-17              16.0                9.0               2.0\n",
      "6798  2015-12-18              15.0                9.0               3.0\n",
      "6799  2015-12-19              16.0                9.0               2.0\n",
      "6800  2015-12-20              16.0                8.0               1.0\n",
      "6801  2015-12-21              15.0                8.0               2.0\n",
      "6802  2015-12-22              16.0                8.0               0.0\n",
      "6803  2015-12-23              15.0                8.0               0.0\n",
      "6804  2015-12-24              11.0                6.0               0.0\n",
      "6805  2015-12-25              14.0                6.0              -2.0\n",
      "6806  2015-12-26              12.0                6.0              -1.0\n",
      "6807  2015-12-27              14.0                7.0              -1.0\n",
      "6808  2015-12-28              15.0                8.0               2.0\n",
      "6809  2015-12-29              11.0                8.0               5.0\n",
      "6810  2015-12-30               9.0                8.0               6.0\n",
      "6811  2015-12-31              12.0               10.0               7.0\n",
      "\n",
      "[6812 rows x 4 columns]\n"
     ]
    }
   ],
   "source": [
    "# a1 = (a-a.min()).astype('timedelta64[D]').astype(int)+1\n",
    "# # print(a1)\n",
    "print(df)"
   ]
  },
  {
   "cell_type": "code",
   "execution_count": 5,
   "metadata": {
    "collapsed": false,
    "scrolled": true
   },
   "outputs": [
    {
     "name": "stdout",
     "output_type": "stream",
     "text": [
      "1997-1-1\n"
     ]
    }
   ],
   "source": [
    "# s = pd.Series(pd.date_range('20000101',periods=10000).tolist() * 80)\n",
    "s = pd.Series(pd.date_range('1997-01-01','2015-12-31').tolist())\n",
    "# print(s)\n",
    "s1 = pd.Series(df.CET)\n",
    "# print(s1)\n",
    "print(s1.min())\n",
    "\n",
    "# s_diff = (s-s.min()).astype('timedelta64[D]').astype(int)+1\n",
    "# # print(s_diff)\n",
    "# s2 = s1.shift(-1) - s\n",
    "# print(s2)\n",
    "\n",
    "# print(s2.unique())\n",
    "# # s2[s2 == s2.unique()[1]]"
   ]
  },
  {
   "cell_type": "code",
   "execution_count": null,
   "metadata": {
    "collapsed": false,
    "scrolled": true
   },
   "outputs": [],
   "source": []
  },
  {
   "cell_type": "code",
   "execution_count": null,
   "metadata": {
    "collapsed": false
   },
   "outputs": [],
   "source": []
  },
  {
   "cell_type": "code",
   "execution_count": null,
   "metadata": {
    "collapsed": true
   },
   "outputs": [],
   "source": []
  }
 ],
 "metadata": {
  "anaconda-cloud": {},
  "kernelspec": {
   "display_name": "Python [conda root]",
   "language": "python",
   "name": "conda-root-py"
  },
  "language_info": {
   "codemirror_mode": {
    "name": "ipython",
    "version": 3
   },
   "file_extension": ".py",
   "mimetype": "text/x-python",
   "name": "python",
   "nbconvert_exporter": "python",
   "pygments_lexer": "ipython3",
   "version": "3.5.2"
  }
 },
 "nbformat": 4,
 "nbformat_minor": 0
}
