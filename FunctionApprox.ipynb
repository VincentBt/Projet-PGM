{
 "cells": [
  {
   "cell_type": "code",
   "execution_count": 2,
   "metadata": {
    "collapsed": false
   },
   "outputs": [],
   "source": [
    "from numpy.random import normal\n",
    "import numpy as np\n",
    "from numpy.linalg import inv\n",
    "\n",
    "from scipy import *\n",
    "from scipy.linalg import norm, pinv\n",
    " \n",
    "\n",
    "from sympy import symbols, diff\n",
    "import matplotlib.pyplot as plt\n",
    "\n"
   ]
  },
  {
   "cell_type": "code",
   "execution_count": 3,
   "metadata": {
    "collapsed": true
   },
   "outputs": [],
   "source": [
    "def kmeans(x,k):\n",
    "    n = x.shape[0]\n",
    "    n_iterations = 1000\n",
    "    epsilon = 1e-8\n",
    "    err = np.inf\n",
    "\n",
    "    #initialize random centroids\n",
    "    c = np.zeros((k,2))\n",
    "    for i in range(k):\n",
    "        idx = np.random.randint(n)\n",
    "        c[i] = x[idx,:]\n",
    "\n",
    "    for iteration in range(n_iterations):\n",
    "        d = np.zeros((n, k))  # distances to centroids square\n",
    "        for i in range(k):\n",
    "            d[:, i] = np.sqrt(np.sum(np.square(np.subtract(x, np.tile(c[i, :], (n, 1)))), 1).flatten())\n",
    "\n",
    "        #assign each point to nearest centroid\n",
    "        l = np.argmin(d,1)\n",
    "\n",
    "\n",
    "        #recompute centroids as center of mass of each cluster\n",
    "        for j in range(k):\n",
    "            if len(l[l==j]):\n",
    "                c[j,:] = x[l==j].sum(0) / len(l[l==j])\n",
    "\n",
    "        err_new = np.sum(np.min(d,1))/n\n",
    "\n",
    "\n",
    "        if np.abs(err_new - err)<epsilon:\n",
    "            break\n",
    "        err = err_new\n",
    "\n",
    "    return c,l,err"
   ]
  },
  {
   "cell_type": "code",
   "execution_count": 14,
   "metadata": {
    "collapsed": false
   },
   "outputs": [],
   "source": [
    "np.random.seed(0)\n",
    "\n",
    "\n",
    "#radial basis function compute exp(-beta * (c-x)^2)\n",
    "def radialbasisfunc(beta, c, x):\n",
    "    return exp(-beta * norm(c-x)**2)\n",
    "     \n",
    "#activation fills the Phi (in the pdf)\n",
    "def activation(X, beta, numNeurons, centers):\n",
    "    # calculate activations of RBFs\n",
    "    Phi = zeros((X.shape[0], numNeurons), float)\n",
    "    for i, c in enumerate(centers):\n",
    "        for j, x in enumerate(X):\n",
    "            #Here we fill the element j,i with exp(-beta * (c_i-x_j)^2)\n",
    "            Phi[j,i] = radialbasisfunc(beta, c, x)\n",
    "    return Phi\n",
    "     \n",
    "#trainrbf gives the values of the weights W and the covariance matrix Q\n",
    "def trainrbf(X, Y, beta, numNeurons):\n",
    "    \n",
    "    #Dimensions\n",
    "    #X: n x Inputdimension\n",
    "    #y: n x 1\n",
    "    \n",
    "    #Centers are the neurons in our RBF network\n",
    "    newCenters = kmeans(X,numNeurons)\n",
    "    centers = newCenters[0]\n",
    "    \n",
    "    print \"center\", centers\n",
    "    \n",
    "    # calculate activations of RBFs\n",
    "    Phi = activation(X, beta, numNeurons, centers)\n",
    "    Phi = np.append(Phi, X, axis =1)\n",
    "    Phi = np.append(Phi, np.ones((n,X.shape[1]), \"float\"), axis = 1)\n",
    "        \n",
    "    # calculate output weights (pseudoinverse)\n",
    "    W = dot(pinv(Phi), Y)\n",
    "    \n",
    "    #Calculate the covariance matrix Q\n",
    "    Q = (dot(np.transpose(Y),Y) - dot(np.transpose(W), dot(np.transpose(Phi), Y)))\n",
    "    \n",
    "    L = [W, Q, centers]\n",
    "    \n",
    "   \n",
    "    print W\n",
    "    print Q\n",
    "    \n",
    "    return L\n",
    "         \n",
    "def testrbf(X, W, Q, beta, numNeurons, centers):\n",
    "    \"\"\" X: matrix of dimensions n x indim \"\"\"\n",
    "         \n",
    "    Phi = activation(X, beta, numNeurons, centers)\n",
    "    Phi = np.append(Phi, X, axis=1)\n",
    "    Phi = np.append(Phi, np.ones((n,X.shape[1]), \"float\"), axis=1)\n",
    "    Y = dot(Phi, W) + (1/X.shape[0])*random.normal(0, Q, X.shape[0])\n",
    "    return Y\n",
    "\n"
   ]
  },
  {
   "cell_type": "code",
   "execution_count": 23,
   "metadata": {
    "collapsed": false
   },
   "outputs": [
    {
     "name": "stdout",
     "output_type": "stream",
     "text": [
      "center [[ 1.91919192  1.91919192]\n",
      " [ 9.39393939  9.39393939]\n",
      " [ 0.70707071  0.70707071]\n",
      " [ 8.18181818  8.18181818]\n",
      " [-1.71717172 -1.71717172]\n",
      " [-5.95959596 -5.95959596]\n",
      " [ 6.06060606  6.06060606]\n",
      " [ 3.23232323  3.23232323]\n",
      " [-7.47474747 -7.47474747]\n",
      " [-0.2020202  -0.2020202 ]\n",
      " [-4.74747475 -4.74747475]\n",
      " [ 4.34343434  4.34343434]\n",
      " [ 7.37373737  7.37373737]\n",
      " [-3.83838384 -3.83838384]\n",
      " [-1.01010101 -1.01010101]\n",
      " [ 5.25252525  5.25252525]\n",
      " [-3.13131313 -3.13131313]\n",
      " [-9.19191919 -9.19191919]\n",
      " [ 6.76767677  6.76767677]\n",
      " [-2.42424242 -2.42424242]]\n",
      "1\n",
      "[[ -6.83292954]\n",
      " [ -0.52222599]\n",
      " [-32.18300148]\n",
      " [  1.02451748]\n",
      " [ -2.82154711]\n",
      " [  0.35961221]\n",
      " [  0.10200593]\n",
      " [  0.43098003]\n",
      " [  0.96339423]\n",
      " [-37.19518274]\n",
      " [  0.18467666]\n",
      " [  0.78248641]\n",
      " [ -0.36668142]\n",
      " [  0.79179958]\n",
      " [-17.57120136]\n",
      " [ -0.11984583]\n",
      " [  0.22910004]\n",
      " [  1.23746647]\n",
      " [  0.90194052]\n",
      " [ -1.20608792]\n",
      " [  0.90346269]\n",
      " [  0.24332279]]\n",
      "[[ 122.95776322]]\n"
     ]
    },
    {
     "data": {
      "text/plain": [
       "<matplotlib.figure.Figure at 0x10c356a0>"
      ]
     },
     "metadata": {},
     "output_type": "display_data"
    },
    {
     "data": {
      "image/png": "[encoded data removed]",
      "text/plain": [
       "<matplotlib.figure.Figure at 0x90ee5f8>"
      ]
     },
     "metadata": {},
     "output_type": "display_data"
    }
   ],
   "source": [
    "n = 100\n",
    "\n",
    "#Specify Dimension of inputs and outputs\n",
    "InputDimension = 1\n",
    "OutputDimension = 1\n",
    "     \n",
    "#Define the bound of the focused interval    \n",
    "lbound = -10\n",
    "ubound = 10\n",
    "    \n",
    "x = mgrid[lbound:ubound:complex(0,n)].reshape(n, 1)\n",
    "# set y and add random noise\n",
    "    \n",
    "    \n",
    "#Function 1\n",
    "#y = 0.01*x+20*np.sin(x)*np.exp(-x**2/2)\n",
    "\n",
    "# function 2 : Well\n",
    "yOriginal = 0.9*x-50*np.exp(-x**2/2)+1\n",
    "\n",
    "yNoisy = yOriginal + random.normal(0, 1, yOriginal.shape)\n",
    "\n",
    "     \n",
    "#Initialize parameters of the radial basis function\n",
    "    \n",
    "#Number of Gaussian centers(Neurons)\n",
    "numNeurons = 20\n",
    "\n",
    "#Define the size of the kernels \n",
    "beta = 1\n",
    "\n",
    "\n",
    "######### Start RBF regression #############\n",
    "\n",
    "#Train the neural network on the data x\n",
    "parameters = trainrbf(x, yNoisy , beta, numNeurons)\n",
    "z = testrbf(x, parameters[0], parameters[1], beta, numNeurons, parameters[2])\n",
    "       \n",
    "# plot original data\n",
    "plt.figure(figsize=(12, 8))\n",
    "\n",
    "# plot original data\n",
    "plt.plot(x,yOriginal, 'k-', linewidth=2)\n",
    "\n",
    "for i in range(n):\n",
    "    plt.scatter(x[i], yNoisy[i])\n",
    "     \n",
    "# plot learned model\n",
    "plt.plot(x, z, 'r-', linewidth=2)\n",
    "     \n",
    "# plot rbfs\n",
    "plt.plot(parameters[2], zeros(numNeurons), 'gs')\n",
    "     \n",
    "plt.xlim(lbound, ubound)\n",
    "plt.show()\n",
    "\n",
    "plt.savefig(\"graphs/RBF_2.eps\",format = \"eps\")"
   ]
  },
  {
   "cell_type": "code",
   "execution_count": null,
   "metadata": {
    "collapsed": true
   },
   "outputs": [],
   "source": []
  },
  {
   "cell_type": "code",
   "execution_count": null,
   "metadata": {
    "collapsed": true
   },
   "outputs": [],
   "source": []
  }
 ],
 "metadata": {
  "anaconda-cloud": {},
  "kernelspec": {
   "display_name": "Python [default]",
   "language": "python",
   "name": "python2"
  },
  "language_info": {
   "codemirror_mode": {
    "name": "ipython",
    "version": 2
   },
   "file_extension": ".py",
   "mimetype": "text/x-python",
   "name": "python",
   "nbconvert_exporter": "python",
   "pygments_lexer": "ipython2",
   "version": "2.7.12"
  }
 },
 "nbformat": 4,
 "nbformat_minor": 1
}
