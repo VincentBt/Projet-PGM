{
 "cells": [
  {
   "cell_type": "code",
   "execution_count": 10,
   "metadata": {
    "collapsed": false
   },
   "outputs": [],
   "source": [
    "from numpy.random import normal\n",
    "import numpy as np"
   ]
  },
  {
   "cell_type": "code",
   "execution_count": 45,
   "metadata": {
    "collapsed": false
   },
   "outputs": [
    {
     "name": "stdout",
     "output_type": "stream",
     "text": [
      "[[  1.        ]\n",
      " [ 10.08443074]\n",
      " [ 20.4018903 ]]\n",
      "[[  0.90517483]\n",
      " [ 10.14218271]\n",
      " [ 20.33277659]]\n"
     ]
    }
   ],
   "source": [
    "#Create the model\n",
    "T = 3\n",
    "\n",
    "#Model 1: linear model\n",
    "#x_k+1 = x_k + 10 + gaussian noise (mean 0,variance 1)\n",
    "#y_k = x_k + gaussian noise  (mean 0,variance 0.1)\n",
    "A = np.identity(1)\n",
    "B = np.identity(1)\n",
    "C = np.identity(1)\n",
    "D = np.zeros([1,1])\n",
    "Q = np.identity(1)\n",
    "R = np.identity(1) * 0.1\n",
    "mean = np.zeros([1,1])\n",
    "\n",
    "x = np.zeros([T,1])\n",
    "y = np.zeros([T,1])\n",
    "u = np.zeros([T,1])\n",
    "\n",
    "#Initialization\n",
    "for k in range(T-1):\n",
    "    u[k] = 10\n",
    "x[0] = 1\n",
    "\n",
    "#Propagation\n",
    "for k in range(T-1):\n",
    "    x[k+1] = np.dot(A,x[k]) + np.dot(B,u[k]) + normal(mean,Q)\n",
    "for k in range(T):\n",
    "    y[k] = np.dot(C,x[k]) + np.dot(D,u[k]) + normal(mean,R)\n",
    "\n",
    "print(x)\n",
    "print(y)"
   ]
  },
  {
   "cell_type": "code",
   "execution_count": null,
   "metadata": {
    "collapsed": true
   },
   "outputs": [],
   "source": [
    "#Kalman filter\n",
    "#from page 25 of ftp://icf.org.ru/pub/docs/linux-support/computer%20science/Artificial%20Intelligence/Neural%20networks/Kalman%20Filtering%20and%20Neural%20Networks%20-%20Simon%20Haykin.pdf\n",
    "\n",
    "#Initialization\n"
   ]
  }
 ],
 "metadata": {
  "anaconda-cloud": {},
  "kernelspec": {
   "display_name": "Python [Root]",
   "language": "python",
   "name": "Python [Root]"
  },
  "language_info": {
   "codemirror_mode": {
    "name": "ipython",
    "version": 3
   },
   "file_extension": ".py",
   "mimetype": "text/x-python",
   "name": "python",
   "nbconvert_exporter": "python",
   "pygments_lexer": "ipython3",
   "version": "3.5.2"
  }
 },
 "nbformat": 4,
 "nbformat_minor": 0
}
