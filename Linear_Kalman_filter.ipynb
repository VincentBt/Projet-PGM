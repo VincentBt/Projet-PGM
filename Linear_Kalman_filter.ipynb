{
 "cells": [
  {
   "cell_type": "code",
   "execution_count": 8,
   "metadata": {
    "collapsed": false
   },
   "outputs": [],
   "source": [
    "from numpy.random import normal\n",
    "import numpy as np\n",
    "from numpy.linalg import inv"
   ]
  },
  {
   "cell_type": "code",
   "execution_count": 9,
   "metadata": {
    "collapsed": false
   },
   "outputs": [
    {
     "name": "stdout",
     "output_type": "stream",
     "text": [
      "Model 1: linear model\n",
      "x_k+1 = 2.0 * x_k + 0 + gaussian noise (mean 0.0,variance 5.0)\n",
      "y_k = 1.0 * x_k + gaussian noise  (mean 0.0,variance 5.0)\n",
      "\n",
      "[[  7.46004815e-02]\n",
      " [  5.41293977e-01]\n",
      " [  8.82885273e-01]\n",
      " [  3.83453945e+00]\n",
      " [  8.44147519e+00]\n",
      " [  1.17393270e+01]\n",
      " [  2.49873546e+01]\n",
      " [  5.39409058e+01]\n",
      " [  1.08527615e+02]\n",
      " [  2.17751935e+02]]\n"
     ]
    }
   ],
   "source": [
    "#Create the model\n",
    "T = 10\n",
    "\n",
    "#Model 1: linear model\n",
    "#x_k+1 = 2*x_k + 0 + gaussian noise (mean 0,variance 0.5)\n",
    "#y_k = x_k + gaussian noise  (mean 0,variance 0.5)\n",
    "A = np.identity(1) * 2\n",
    "B = np.zeros([1,1])\n",
    "C = np.identity(1)\n",
    "D = np.zeros([1,1])\n",
    "Q = np.identity(1) * 5\n",
    "R = np.identity(1) * 5\n",
    "mean = np.zeros([1,1])\n",
    "\n",
    "x = np.zeros([T,1])\n",
    "y = np.zeros([T,1])\n",
    "u = np.zeros([T,1])\n",
    "\n",
    "print(\"Model 1: linear model\"+ '\\n' + \\\n",
    "\"x_k+1 = \"+ str(A.item()) +\" * x_k + 0 + gaussian noise (mean \" + str(mean.item()) +\",variance \"+ str(Q.item()) +\")\"+ '\\n'+ \\\n",
    "\"y_k = \"+ str(C.item()) +\" * x_k + gaussian noise  (mean \"+ str(mean.item()) +\",variance \"+ str(R.item()) +\")\"+ '\\n')\n",
    "\n",
    "#Initialization\n",
    "# for k in range(T-1):\n",
    "#     u[k] = 0\n",
    "x[0] = normal(0,1)\n",
    "\n",
    "#Propagation\n",
    "for k in range(T-1):\n",
    "    x[k+1] = np.dot(A,x[k]) + np.dot(B,u[k]) + normal(mean,Q)\n",
    "for k in range(T):\n",
    "    y[k] = np.dot(C,x[k]) + np.dot(D,u[k]) + normal(mean,R)\n",
    "\n",
    "print(x)\n",
    "# print(y)"
   ]
  },
  {
   "cell_type": "code",
   "execution_count": 10,
   "metadata": {
    "collapsed": false
   },
   "outputs": [
    {
     "name": "stdout",
     "output_type": "stream",
     "text": [
      "[[  1.01811230e-02]\n",
      " [ -1.96453838e+00]\n",
      " [  1.02004504e+00]\n",
      " [  1.02053966e+01]\n",
      " [  8.55079044e+00]\n",
      " [  1.39414052e+01]\n",
      " [  2.67425642e+01]\n",
      " [  5.65122807e+01]\n",
      " [  1.12842052e+02]\n",
      " [  2.19291618e+02]]\n",
      "\n",
      "\n",
      "[[-0.06441936]\n",
      " [-2.50583236]\n",
      " [ 0.13715977]\n",
      " [ 6.37085718]\n",
      " [ 0.10931525]\n",
      " [ 2.20207818]\n",
      " [ 1.75520964]\n",
      " [ 2.57137494]\n",
      " [ 4.31443722]\n",
      " [ 1.53968348]]\n"
     ]
    }
   ],
   "source": [
    "#Kalman filter\n",
    "#from page 25 of ftp://icf.org.ru/pub/docs/linux-support/computer%20science/Artificial%20Intelligence/Neural%20networks/Kalman%20Filtering%20and%20Neural%20Networks%20-%20Simon%20Haykin.pdf\n",
    "\n",
    "#Initialization\n",
    "V = np.zeros([T,1])\n",
    "V[0] = np.identity(1)\n",
    "x_f = np.zeros([T,1])\n",
    "x_f[0] = normal(0,V[0])\n",
    "V_plus_all = np.zeros([T,1])\n",
    "x_plus_all = np.zeros([T,1])\n",
    "\n",
    "#Propagation\n",
    "for k in range(1,T):\n",
    "    x_plus = np.dot(A, x_f[k-1])\n",
    "    x_plus_all[k] = x_plus\n",
    "    V_plus = A.dot(V[k-1]).dot(A.T) + Q \n",
    "    V_plus_all[k] = V_plus\n",
    "    \n",
    "    K = V_plus.dot(C.T).dot(inv(C.dot(V_plus.dot(C.T) + R)))\n",
    "    x_f[k] = x_plus + K.dot(y[k] - C.dot(x_plus))\n",
    "    V[k] = (np.identity(K.shape[0]) - K.dot(C)).dot(V_plus)\n",
    "    \n",
    "print(x_f)\n",
    "print('\\n')\n",
    "print(x_f - x)"
   ]
  },
  {
   "cell_type": "code",
   "execution_count": 13,
   "metadata": {
    "collapsed": false
   },
   "outputs": [
    {
     "name": "stdout",
     "output_type": "stream",
     "text": [
      "9\n",
      "8\n",
      "7\n",
      "6\n",
      "5\n",
      "4\n",
      "3\n",
      "2\n",
      "1\n",
      "[[  6.07746696e-02]\n",
      " [  2.48033206e-01]\n",
      " [  2.21695543e+00]\n",
      " [  5.19993350e+00]\n",
      " [  7.29041262e+00]\n",
      " [  1.38012852e+01]\n",
      " [  2.75159620e+01]\n",
      " [  5.55099179e+01]\n",
      " [  1.10400340e+02]\n",
      " [  2.19291618e+02]]\n",
      "\n",
      "\n",
      "x_f - x_b =  \n",
      " [[-0.05059355]\n",
      " [-2.21257159]\n",
      " [-1.19691038]\n",
      " [ 5.00546314]\n",
      " [ 1.26037782]\n",
      " [ 0.14011997]\n",
      " [-0.77339785]\n",
      " [ 1.00236288]\n",
      " [ 2.44171239]\n",
      " [ 0.        ]]\n",
      "\n",
      "x_f - x =  \n",
      " [[-0.06441936]\n",
      " [-2.50583236]\n",
      " [ 0.13715977]\n",
      " [ 6.37085718]\n",
      " [ 0.10931525]\n",
      " [ 2.20207818]\n",
      " [ 1.75520964]\n",
      " [ 2.57137494]\n",
      " [ 4.31443722]\n",
      " [ 1.53968348]]\n",
      "\n",
      "x_b - x =  \n",
      " [[-0.01382581]\n",
      " [-0.29326077]\n",
      " [ 1.33407015]\n",
      " [ 1.36539404]\n",
      " [-1.15106257]\n",
      " [ 2.06195821]\n",
      " [ 2.52860748]\n",
      " [ 1.56901206]\n",
      " [ 1.87272482]\n",
      " [ 1.53968348]]\n"
     ]
    }
   ],
   "source": [
    "#Recursive\n",
    "#F = A, B = H, P = V\n",
    "\n",
    "#Initialization\n",
    "x_b = np.zeros([T,1])\n",
    "x_b[-1] = x_f[-1]\n",
    "V_b = np.zeros([T,1])\n",
    "V_b[-1] = V[-1]\n",
    "\n",
    "#Propagation\n",
    "for k in range(T-1, 0, -1): #from T-1 to 1 by -1 increments\n",
    "    print(k)\n",
    "    A_b = V[k-1].dot(A.T).dot(inv(np.matrix(V_plus_all[k])))\n",
    "    V_b[k-1] = V[k-1] - A_b.dot(V_plus_all[k] - V_b[k]).dot(A_b.T)\n",
    "    x_b[k-1] = x_f[k-1] + A_b.dot(x_b[k] - x_plus_all[k])\n",
    "    \n",
    "print(x_b)   \n",
    "print('\\n')\n",
    "print(\"x_f - x_b = \",'\\n',x_f - x_b)\n",
    "print()\n",
    "print(\"x_f - x = \",'\\n',x_f - x)\n",
    "print()\n",
    "print(\"x_b - x = \",'\\n',x_b - x)"
   ]
  },
  {
   "cell_type": "markdown",
   "metadata": {},
   "source": [
    "We get 0, as Kalman filter does all the job on linear systems (we can use the backward recursion, but it helps only for non-linear systems)"
   ]
  },
  {
   "cell_type": "markdown",
   "metadata": {
    "collapsed": true
   },
   "source": [
    "# Now, take variable transition matrix (A_k and C_k, not A and C anymore)"
   ]
  },
  {
   "cell_type": "code",
   "execution_count": 14,
   "metadata": {
    "collapsed": false
   },
   "outputs": [
    {
     "name": "stdout",
     "output_type": "stream",
     "text": [
      "[[ -6.87513095e-01]\n",
      " [  2.37988228e+00]\n",
      " [  8.43918428e+00]\n",
      " [  1.44045978e+01]\n",
      " [  6.01336387e+01]\n",
      " [  3.03316158e+02]\n",
      " [  1.81860548e+03]\n",
      " [  1.27336680e+04]\n",
      " [  1.01862056e+05]\n",
      " [  9.16762155e+05]]\n"
     ]
    }
   ],
   "source": [
    "#Create the model\n",
    "T = 10\n",
    "\n",
    "#Model 2: linear model with dependence over time\n",
    "#x_k+1 = (k+1)*x_k + gaussian noise (mean 0,variance 1)\n",
    "#y_k = (1 + 1/k)*x_k + gaussian noise  (mean 0,variance 0.1)\n",
    "A = np.identity(1)\n",
    "A_all = [A*k for k in range(1,T+1)]  #A_all is such that x[k+1] = np.dot(A_all[k],x[k]) + ...etc\n",
    "B = np.zeros([1,1])\n",
    "C_all = np.zeros([T,1]) #C_all is such that y[k] = np.dot(C_all[k],x[k]) + ...etc\n",
    "for k in range(1,T):\n",
    "    C = np.identity(1)\n",
    "    C_all[k] = C*(1 + 1/(k+1))\n",
    "D = np.zeros([1,1])\n",
    "Q = np.identity(1) * 5\n",
    "R = np.identity(1) * 5\n",
    "mean = np.zeros([1,1])\n",
    "\n",
    "x = np.zeros([T,1])\n",
    "y = np.zeros([T,1])\n",
    "u = np.zeros([T,1])\n",
    "\n",
    "#Initialization\n",
    "# for k in range(T-1):\n",
    "#     u[k] = 0\n",
    "x[0] = normal(0,1)\n",
    "\n",
    "#Propagation\n",
    "for k in range(T-1):\n",
    "    x[k+1] = np.dot(A_all[k],x[k]) + np.dot(B,u[k]) + normal(mean,Q)\n",
    "for k in range(T):\n",
    "    y[k] = np.dot(C_all[k],x[k]) + np.dot(D,u[k]) + normal(mean,R)\n",
    "\n",
    "print(x)\n",
    "# print(y)"
   ]
  },
  {
   "cell_type": "code",
   "execution_count": 15,
   "metadata": {
    "collapsed": false,
    "scrolled": true
   },
   "outputs": [
    {
     "name": "stdout",
     "output_type": "stream",
     "text": [
      "[[  1.00000000e+00]\n",
      " [  2.28638195e+00]\n",
      " [  3.78845199e+00]\n",
      " [  1.36994189e+01]\n",
      " [  5.79530590e+01]\n",
      " [  3.07338574e+02]\n",
      " [  1.82177786e+03]\n",
      " [  1.27311701e+04]\n",
      " [  1.01864768e+05]\n",
      " [  9.16756730e+05]]\n",
      "\n",
      "\n",
      "[[ 1.68751309]\n",
      " [-0.09350033]\n",
      " [-4.65073229]\n",
      " [-0.70517889]\n",
      " [-2.18057968]\n",
      " [ 4.02241663]\n",
      " [ 3.17237392]\n",
      " [-2.49785216]\n",
      " [ 2.71214609]\n",
      " [-5.42483534]]\n"
     ]
    }
   ],
   "source": [
    "#Kalman filter\n",
    "#from page 25 of ftp://icf.org.ru/pub/docs/linux-support/computer%20science/Artificial%20Intelligence/Neural%20networks/Kalman%20Filtering%20and%20Neural%20Networks%20-%20Simon%20Haykin.pdf\n",
    "\n",
    "#Initialization\n",
    "V = np.zeros([T,1])\n",
    "V[0] = np.identity(1)\n",
    "x_f = np.zeros([T,1])\n",
    "# x_f[0] = normal(0,V[0])\n",
    "x_f[0] = 1.\n",
    "V_plus_all = np.zeros([T,1])\n",
    "x_plus_all = np.zeros([T,1])\n",
    "\n",
    "#Propagation\n",
    "for k in range(1,T):\n",
    "    x_plus = np.dot(A_all[k-1], x_f[k-1])\n",
    "    x_plus_all[k] = x_plus\n",
    "    V_plus = A_all[k-1].dot(V[k-1]).dot(A_all[k-1].T) + Q \n",
    "    V_plus_all[k] = V_plus\n",
    "    \n",
    "    K = V_plus.dot(C_all[k].T).dot(inv(C_all[k].dot(np.matrix(V_plus.dot(C_all[k].T) + R))))\n",
    "    x_f[k] = x_plus + K.dot(y[k] - C_all[k].dot(x_plus))\n",
    "    V[k] = (np.identity(K.shape[0]) - K.dot(C_all[k])).dot(V_plus)\n",
    "    \n",
    "#     print(\"x_plus\",x_plus)\n",
    "#     print(C_all[k])\n",
    "#     print(\"h\",C_all[k].dot(x_plus))\n",
    "# #     print(\"A_all\",A_all)\n",
    "# #     print(\"C_all\",C_all)\n",
    "#     print(\"V_plus\",V_plus)\n",
    "#     print(\"K\",K)\n",
    "#     print(\"x_f[k]\",x_f[k])\n",
    "#     print(\"V[k]\",V[k])\n",
    "#     print()\n",
    "    \n",
    "print(x_f)\n",
    "print('\\n')\n",
    "print(x_f - x)"
   ]
  },
  {
   "cell_type": "code",
   "execution_count": 17,
   "metadata": {
    "collapsed": false
   },
   "outputs": [
    {
     "name": "stdout",
     "output_type": "stream",
     "text": [
      "[[  1.54571957e+00]\n",
      " [  2.63715871e+00]\n",
      " [  5.31329262e+00]\n",
      " [  1.54449734e+01]\n",
      " [  6.08753531e+01]\n",
      " [  3.02565399e+02]\n",
      " [  1.81865492e+03]\n",
      " [  1.27328582e+04]\n",
      " [  1.01861580e+05]\n",
      " [  9.16756730e+05]]\n",
      "\n",
      "\n",
      "x_f - x_b =  \n",
      " [[-0.54571957]\n",
      " [-0.35077676]\n",
      " [-1.52484063]\n",
      " [-1.74555453]\n",
      " [-2.92229412]\n",
      " [ 4.77317513]\n",
      " [ 3.12293077]\n",
      " [-1.6880414 ]\n",
      " [ 3.18759805]\n",
      " [ 0.        ]]\n",
      "\n",
      "x_f - x =  \n",
      " [[ 1.68751309]\n",
      " [-0.09350033]\n",
      " [-4.65073229]\n",
      " [-0.70517889]\n",
      " [-2.18057968]\n",
      " [ 4.02241663]\n",
      " [ 3.17237392]\n",
      " [-2.49785216]\n",
      " [ 2.71214609]\n",
      " [-5.42483534]]\n",
      "\n",
      "x_b - x =  \n",
      " [[ 2.23323267]\n",
      " [ 0.25727643]\n",
      " [-3.12589166]\n",
      " [ 1.04037565]\n",
      " [ 0.74171444]\n",
      " [-0.7507585 ]\n",
      " [ 0.04944315]\n",
      " [-0.80981076]\n",
      " [-0.47545196]\n",
      " [-5.42483534]]\n"
     ]
    }
   ],
   "source": [
    "#Recursive\n",
    "#F = A, B = H, P = V\n",
    "\n",
    "#Initialization\n",
    "x_b = np.zeros([T,1])\n",
    "x_b[T-1] = x_f[T-1]\n",
    "V_b = np.zeros([T,1])\n",
    "V_b[T-1] = V[T-1]\n",
    "# print(len(A_all))\n",
    "\n",
    "#Propagation\n",
    "for k in range(T-1, 0, -1): #from T-1 to 1 by -1 increments\n",
    "    A_b = V[k-1].dot(A_all[k].T).dot(inv(np.matrix(V_plus_all[k])))\n",
    "    V_b[k-1] = V[k-1] - A_b.dot(V_plus_all[k] - V_b[k]).dot(A_b.T)\n",
    "    x_b[k-1] = x_f[k-1] + A_b.dot(x_b[k] - x_plus_all[k])\n",
    "    \n",
    "print(x_b)   \n",
    "print('\\n')\n",
    "print(\"x_f - x_b = \",'\\n',x_f - x_b)\n",
    "print()\n",
    "print(\"x_f - x = \",'\\n',x_f - x)\n",
    "print()\n",
    "print(\"x_b - x = \",'\\n',x_b - x)"
   ]
  },
  {
   "cell_type": "code",
   "execution_count": null,
   "metadata": {
    "collapsed": true
   },
   "outputs": [],
   "source": []
  },
  {
   "cell_type": "code",
   "execution_count": null,
   "metadata": {
    "collapsed": true
   },
   "outputs": [],
   "source": []
  }
 ],
 "metadata": {
  "anaconda-cloud": {},
  "kernelspec": {
   "display_name": "Python [conda root]",
   "language": "python",
   "name": "conda-root-py"
  },
  "language_info": {
   "codemirror_mode": {
    "name": "ipython",
    "version": 3
   },
   "file_extension": ".py",
   "mimetype": "text/x-python",
   "name": "python",
   "nbconvert_exporter": "python",
   "pygments_lexer": "ipython3",
   "version": "3.5.2"
  }
 },
 "nbformat": 4,
 "nbformat_minor": 0
}
