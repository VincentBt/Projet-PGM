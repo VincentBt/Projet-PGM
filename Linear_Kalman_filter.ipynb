{
 "cells": [
  {
   "cell_type": "code",
   "execution_count": 1,
   "metadata": {
    "collapsed": false
   },
   "outputs": [],
   "source": [
    "from numpy.random import normal\n",
    "import numpy as np\n",
    "from numpy.linalg import inv"
   ]
  },
  {
   "cell_type": "code",
   "execution_count": 2,
   "metadata": {
    "collapsed": false
   },
   "outputs": [
    {
     "name": "stdout",
     "output_type": "stream",
     "text": [
      "Model 1: linear model\n",
      "x_k+1 = 2.0 * x_k + 0 + gaussian noise (mean 0.0,variance 5.0)\n",
      "y_k = 1.0 * x_k + gaussian noise  (mean 0.0,variance 5.0)\n",
      "\n",
      "[[   -1.60556601]\n",
      " [   -5.03052243]\n",
      " [  -11.06735191]\n",
      " [  -22.17098971]\n",
      " [  -42.54735874]\n",
      " [  -87.08279334]\n",
      " [ -169.79180253]\n",
      " [ -336.58796126]\n",
      " [ -668.16843124]\n",
      " [-1342.83241826]]\n"
     ]
    }
   ],
   "source": [
    "#Create the model\n",
    "T = 10\n",
    "\n",
    "#Model 1: linear model\n",
    "#x_k+1 = 2*x_k + 0 + gaussian noise (mean 0,variance 0.5)\n",
    "#y_k = x_k + gaussian noise  (mean 0,variance 0.5)\n",
    "A = np.identity(1) * 2\n",
    "B = np.zeros([1,1])\n",
    "C = np.identity(1)\n",
    "D = np.zeros([1,1])\n",
    "Q = np.identity(1) * 5\n",
    "R = np.identity(1) * 5\n",
    "mean = np.zeros([1,1])\n",
    "\n",
    "x = np.zeros([T,1])\n",
    "y = np.zeros([T,1])\n",
    "u = np.zeros([T,1])\n",
    "\n",
    "print(\"Model 1: linear model\"+ '\\n' + \\\n",
    "\"x_k+1 = \"+ str(A.item()) +\" * x_k + 0 + gaussian noise (mean \" + str(mean.item()) +\",variance \"+ str(Q.item()) +\")\"+ '\\n'+ \\\n",
    "\"y_k = \"+ str(C.item()) +\" * x_k + gaussian noise  (mean \"+ str(mean.item()) +\",variance \"+ str(R.item()) +\")\"+ '\\n')\n",
    "\n",
    "#Initialization\n",
    "# for k in range(T-1):\n",
    "#     u[k] = 0\n",
    "x[0] = normal(0,1)\n",
    "\n",
    "#Propagation\n",
    "for k in range(T-1):\n",
    "    x[k+1] = np.dot(A,x[k]) + np.dot(B,u[k]) + normal(mean,Q)\n",
    "for k in range(T):\n",
    "    y[k] = np.dot(C,x[k]) + np.dot(D,u[k]) + normal(mean,R)\n",
    "\n",
    "print(x)\n",
    "# print(y)"
   ]
  },
  {
   "cell_type": "code",
   "execution_count": 4,
   "metadata": {
    "collapsed": false
   },
   "outputs": [
    {
     "name": "stdout",
     "output_type": "stream",
     "text": [
      "[[ -4.25768755e-01]\n",
      " [ -3.71979269e+00]\n",
      " [ -1.50614902e+01]\n",
      " [ -2.41625455e+01]\n",
      " [ -3.99011826e+01]\n",
      " [ -8.07828544e+01]\n",
      " [ -1.63791640e+02]\n",
      " [ -3.34145321e+02]\n",
      " [ -6.63350417e+02]\n",
      " [ -1.33939098e+03]]\n",
      "\n",
      "\n",
      "[[ 1.17979725]\n",
      " [ 1.31072974]\n",
      " [-3.99413829]\n",
      " [-1.99155575]\n",
      " [ 2.64617611]\n",
      " [ 6.29993892]\n",
      " [ 6.00016217]\n",
      " [ 2.44264003]\n",
      " [ 4.81801418]\n",
      " [ 3.44144256]]\n"
     ]
    }
   ],
   "source": [
    "#Kalman filter\n",
    "#from page 25 of ftp://icf.org.ru/pub/docs/linux-support/computer%20science/Artificial%20Intelligence/Neural%20networks/Kalman%20Filtering%20and%20Neural%20Networks%20-%20Simon%20Haykin.pdf\n",
    "\n",
    "#Initialization\n",
    "V = np.zeros([T,1])\n",
    "V[0] = np.identity(1)\n",
    "x_f = np.zeros([T,1])\n",
    "x_f[0] = normal(0,V[0])\n",
    "V_plus_all = np.zeros([T,1])\n",
    "x_plus_all = np.zeros([T,1])\n",
    "\n",
    "#Propagation\n",
    "for k in range(1,T):\n",
    "    x_plus = np.dot(A, x_f[k-1])\n",
    "    x_plus_all[k] = x_plus\n",
    "    V_plus = A.dot(V[k-1]).dot(A.T) + Q \n",
    "    V_plus_all[k] = V_plus\n",
    "    \n",
    "    K = V_plus.dot(C.T).dot(inv(C.dot(V_plus.dot(C.T) + R)))\n",
    "    x_f[k] = x_plus + K.dot(y[k] - C.dot(x_plus))\n",
    "    V[k] = (np.identity(K.shape[0]) - K.dot(C)).dot(V_plus)\n",
    "    \n",
    "print(x_f)\n",
    "print('\\n')\n",
    "print(x_f - x)"
   ]
  },
  {
   "cell_type": "code",
   "execution_count": 5,
   "metadata": {
    "collapsed": false
   },
   "outputs": [
    {
     "name": "stdout",
     "output_type": "stream",
     "text": [
      "9\n",
      "8\n",
      "7\n",
      "6\n",
      "5\n",
      "4\n",
      "3\n",
      "2\n",
      "1\n",
      "[[ -4.25768755e-01]\n",
      " [ -6.42570910e+08]\n",
      " [ -1.39446819e+08]\n",
      " [ -1.57133041e+07]\n",
      " [ -1.53978065e+06]\n",
      " [ -1.47672727e+05]\n",
      " [ -1.42631839e+04]\n",
      " [ -1.67406473e+03]\n",
      " [ -7.96243075e+02]\n",
      " [ -1.33939098e+03]]\n",
      "\n",
      "\n",
      "x_f - x_b =  \n",
      " [[  0.00000000e+00]\n",
      " [  6.42570906e+08]\n",
      " [  1.39446804e+08]\n",
      " [  1.57132799e+07]\n",
      " [  1.53974075e+06]\n",
      " [  1.47591944e+05]\n",
      " [  1.40993922e+04]\n",
      " [  1.33991941e+03]\n",
      " [  1.32892658e+02]\n",
      " [  0.00000000e+00]]\n",
      "\n",
      "x_f - x =  \n",
      " [[ 1.17979725]\n",
      " [ 1.31072974]\n",
      " [-3.99413829]\n",
      " [-1.99155575]\n",
      " [ 2.64617611]\n",
      " [ 6.29993892]\n",
      " [ 6.00016217]\n",
      " [ 2.44264003]\n",
      " [ 4.81801418]\n",
      " [ 3.44144256]]\n",
      "\n",
      "x_b - x =  \n",
      " [[  1.17979725e+00]\n",
      " [ -6.42570905e+08]\n",
      " [ -1.39446808e+08]\n",
      " [ -1.57132819e+07]\n",
      " [ -1.53973811e+06]\n",
      " [ -1.47585644e+05]\n",
      " [ -1.40933921e+04]\n",
      " [ -1.33747677e+03]\n",
      " [ -1.28074644e+02]\n",
      " [  3.44144256e+00]]\n"
     ]
    }
   ],
   "source": [
    "#Recursive\n",
    "#F = A, B = H, P = V\n",
    "\n",
    "#Initialization\n",
    "x_b = np.zeros([T,1])\n",
    "x_b[-1] = x_f[-1]\n",
    "V_b = np.zeros([T,1])\n",
    "V_b[-1] = V[-1]\n",
    "\n",
    "#Propagation\n",
    "for k in range(T-1, 0, -1): #from T-1 to 1 by -1 increments\n",
    "    print(k)\n",
    "    A_b = V_plus_all[k-1].dot(A.T).dot(inv(np.matrix(V[k])))\n",
    "    V_b[k-1] = V_plus_all[k-1] - A_b.dot(V[k] - V_b[k]).dot(A_b.T)\n",
    "    x_b[k-1] = x_f[k-1] + A_b.dot(x_b[k] - x_plus_all[k])\n",
    "    \n",
    "print(x_b)   \n",
    "print('\\n')\n",
    "print(\"x_f - x_b = \",'\\n',x_f - x_b)\n",
    "print()\n",
    "print(\"x_f - x = \",'\\n',x_f - x)\n",
    "print()\n",
    "print(\"x_b - x = \",'\\n',x_b - x)"
   ]
  },
  {
   "cell_type": "markdown",
   "metadata": {},
   "source": [
    "We get 0, as Kalman filter does all the job on linear systems (we can use the backward recursion, but it helps only for non-linear systems)"
   ]
  },
  {
   "cell_type": "markdown",
   "metadata": {
    "collapsed": true
   },
   "source": [
    "# Now, take variable transition matrix (A_k and C_k, not A and C anymore)"
   ]
  },
  {
   "cell_type": "code",
   "execution_count": 8,
   "metadata": {
    "collapsed": false
   },
   "outputs": [
    {
     "name": "stdout",
     "output_type": "stream",
     "text": [
      "[[ -9.14048011e-02]\n",
      " [  4.28329091e+00]\n",
      " [  2.48625934e+00]\n",
      " [  3.23487383e+00]\n",
      " [  6.94227895e+00]\n",
      " [  4.16525026e+01]\n",
      " [  2.38758178e+02]\n",
      " [  1.67213577e+03]\n",
      " [  1.33737864e+04]\n",
      " [  1.20372856e+05]]\n"
     ]
    }
   ],
   "source": [
    "#Create the model\n",
    "T = 10\n",
    "\n",
    "#Model 2: linear model with dependence over time\n",
    "#x_k+1 = (k+1)*x_k + gaussian noise (mean 0,variance 1)\n",
    "#y_k = (1 + 1/k)*x_k + gaussian noise  (mean 0,variance 0.1)\n",
    "A = np.identity(1)\n",
    "A_all = [A*k for k in range(1,T+1)]  #A_all is such that x[k+1] = np.dot(A_all[k],x[k]) + ...etc\n",
    "B = np.zeros([1,1])\n",
    "C_all = np.zeros([T,1]) #C_all is such that y[k] = np.dot(C_all[k],x[k]) + ...etc\n",
    "for k in range(1,T):\n",
    "    C = np.identity(1)\n",
    "    C_all[k] = C*(1 + 1/(k+1))\n",
    "D = np.zeros([1,1])\n",
    "Q = np.identity(1) * 5\n",
    "R = np.identity(1) * 5\n",
    "mean = np.zeros([1,1])\n",
    "\n",
    "x = np.zeros([T,1])\n",
    "y = np.zeros([T,1])\n",
    "u = np.zeros([T,1])\n",
    "\n",
    "#Initialization\n",
    "# for k in range(T-1):\n",
    "#     u[k] = 0\n",
    "x[0] = normal(0,1)\n",
    "\n",
    "#Propagation\n",
    "for k in range(T-1):\n",
    "    x[k+1] = np.dot(A_all[k],x[k]) + np.dot(B,u[k]) + normal(mean,Q)\n",
    "for k in range(T):\n",
    "    y[k] = np.dot(C_all[k],x[k]) + np.dot(D,u[k]) + normal(mean,R)\n",
    "\n",
    "print(x)\n",
    "# print(y)"
   ]
  },
  {
   "cell_type": "code",
   "execution_count": 10,
   "metadata": {
    "collapsed": false,
    "scrolled": true
   },
   "outputs": [
    {
     "name": "stdout",
     "output_type": "stream",
     "text": [
      "[[  1.00000000e+00]\n",
      " [  3.37205602e+00]\n",
      " [  3.24085974e+00]\n",
      " [  6.66723782e+00]\n",
      " [  1.03311866e+01]\n",
      " [  3.69645047e+01]\n",
      " [  2.41632167e+02]\n",
      " [  1.67734818e+03]\n",
      " [  1.33800584e+04]\n",
      " [  1.20372198e+05]]\n",
      "\n",
      "\n",
      "[[ 1.0914048 ]\n",
      " [-0.91123489]\n",
      " [ 0.7546004 ]\n",
      " [ 3.43236399]\n",
      " [ 3.3889077 ]\n",
      " [-4.68799784]\n",
      " [ 2.87398833]\n",
      " [ 5.21241478]\n",
      " [ 6.27198667]\n",
      " [-0.65819298]]\n"
     ]
    }
   ],
   "source": [
    "#Kalman filter\n",
    "#from page 25 of ftp://icf.org.ru/pub/docs/linux-support/computer%20science/Artificial%20Intelligence/Neural%20networks/Kalman%20Filtering%20and%20Neural%20Networks%20-%20Simon%20Haykin.pdf\n",
    "\n",
    "#Initialization\n",
    "V = np.zeros([T,1])\n",
    "V[0] = np.identity(1)\n",
    "x_f = np.zeros([T,1])\n",
    "# x_f[0] = normal(0,V[0])\n",
    "x_f[0] = 1.\n",
    "V_plus_all = np.zeros([T,1])\n",
    "x_plus_all = np.zeros([T,1])\n",
    "\n",
    "#Propagation\n",
    "for k in range(1,T):\n",
    "    x_plus = np.dot(A_all[k-1], x_f[k-1])\n",
    "    x_plus_all[k] = x_plus\n",
    "    V_plus = A_all[k-1].dot(V[k-1]).dot(A_all[k-1].T) + Q \n",
    "    V_plus_all[k] = V_plus\n",
    "    \n",
    "    K = V_plus.dot(C_all[k].T).dot(inv(C_all[k].dot(np.matrix(V_plus.dot(C_all[k].T) + R))))\n",
    "    x_f[k] = x_plus + K.dot(y[k] - C_all[k].dot(x_plus))\n",
    "    V[k] = (np.identity(K.shape[0]) - K.dot(C_all[k])).dot(V_plus)\n",
    "    \n",
    "#     print(\"x_plus\",x_plus)\n",
    "#     print(C_all[k])\n",
    "#     print(\"h\",C_all[k].dot(x_plus))\n",
    "# #     print(\"A_all\",A_all)\n",
    "# #     print(\"C_all\",C_all)\n",
    "#     print(\"V_plus\",V_plus)\n",
    "#     print(\"K\",K)\n",
    "#     print(\"x_f[k]\",x_f[k])\n",
    "#     print(\"V[k]\",V[k])\n",
    "#     print()\n",
    "    \n",
    "print(x_f)\n",
    "print('\\n')\n",
    "print(x_f - x)"
   ]
  },
  {
   "cell_type": "code",
   "execution_count": 11,
   "metadata": {
    "collapsed": false
   },
   "outputs": [
    {
     "name": "stdout",
     "output_type": "stream",
     "text": [
      "[[  1.00000000e+00]\n",
      " [ -2.14133745e+17]\n",
      " [ -3.49531027e+16]\n",
      " [ -2.28483128e+15]\n",
      " [ -5.67281465e+13]\n",
      " [ -6.29604028e+11]\n",
      " [ -3.72930199e+09]\n",
      " [ -1.32549247e+07]\n",
      " [ -1.71538463e+04]\n",
      " [  1.20372198e+05]]\n",
      "\n",
      "\n",
      "[[  0.00000000e+00]\n",
      " [  2.14133745e+17]\n",
      " [  3.49531027e+16]\n",
      " [  2.28483128e+15]\n",
      " [  5.67281465e+13]\n",
      " [  6.29604028e+11]\n",
      " [  3.72930223e+09]\n",
      " [  1.32566020e+07]\n",
      " [  3.05339047e+04]\n",
      " [  0.00000000e+00]]\n",
      "\n"
     ]
    }
   ],
   "source": [
    "#Recursive\n",
    "#F = A, B = H, P = V\n",
    "\n",
    "#Initialization\n",
    "x_b = np.zeros([T,1])\n",
    "x_b[T-1] = x_f[T-1]\n",
    "V_b = np.zeros([T,1])\n",
    "V_b[T-1] = V[T-1]\n",
    "# print(len(A_all))\n",
    "\n",
    "#Propagation\n",
    "for k in range(T-1, 0, -1): #from T-1 to 1 by -1 increments\n",
    "    A_b = V_plus_all[k-1].dot(A_all[k].T).dot(inv(np.matrix(V[k])))\n",
    "    V_b[k-1] = V_plus_all[k-1] - A_b.dot(V[k] - V_b[k]).dot(A_b.T)\n",
    "    x_b[k-1] = x_f[k-1] + A_b.dot(x_b[k] - x_plus_all[k])\n",
    "    \n",
    "print(x_b)  \n",
    "print('\\n')\n",
    "print(x_f - x_b)\n",
    "print()"
   ]
  },
  {
   "cell_type": "code",
   "execution_count": null,
   "metadata": {
    "collapsed": true
   },
   "outputs": [],
   "source": []
  },
  {
   "cell_type": "code",
   "execution_count": null,
   "metadata": {
    "collapsed": true
   },
   "outputs": [],
   "source": []
  }
 ],
 "metadata": {
  "anaconda-cloud": {},
  "kernelspec": {
   "display_name": "Python [conda root]",
   "language": "python",
   "name": "conda-root-py"
  },
  "language_info": {
   "codemirror_mode": {
    "name": "ipython",
    "version": 3
   },
   "file_extension": ".py",
   "mimetype": "text/x-python",
   "name": "python",
   "nbconvert_exporter": "python",
   "pygments_lexer": "ipython3",
   "version": "3.5.2"
  }
 },
 "nbformat": 4,
 "nbformat_minor": 0
}
